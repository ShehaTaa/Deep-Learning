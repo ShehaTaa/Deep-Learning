{
 "cells": [
  {
   "cell_type": "markdown",
   "metadata": {},
   "source": [
    "## Part 1 - Data Preprocessing and Augmentation"
   ]
  },
  {
   "cell_type": "code",
   "execution_count": null,
   "metadata": {},
   "outputs": [],
   "source": [
    "from keras.preprocessing.image import ImageDataGenerator"
   ]
  },
  {
   "cell_type": "code",
   "execution_count": 2,
   "metadata": {},
   "outputs": [
    {
     "name": "stdout",
     "output_type": "stream",
     "text": [
      "Found 8000 images belonging to 2 classes.\n",
      "Found 2000 images belonging to 2 classes.\n"
     ]
    }
   ],
   "source": [
    "#create a object of ImageDataGenerator\n",
    "train_datagen = ImageDataGenerator(rescale = 1./255,\n",
    "                                   shear_range = 0.2,\n",
    "                                   zoom_range = 0.2,\n",
    "                                   horizontal_flip = True)\n",
    "\n",
    "test_datagen = ImageDataGenerator(rescale = 1./255)\n",
    "\n",
    "training_set = train_datagen.flow_from_directory('dataset/training_set',\n",
    "                                                 target_size = (64, 64),\n",
    "                                                 batch_size = 32,\n",
    "                                                 class_mode = 'binary')\n",
    "\n",
    "test_set = test_datagen.flow_from_directory('dataset/test_set',\n",
    "                                            target_size = (64, 64),\n",
    "                                            batch_size = 32,\n",
    "                                            class_mode = 'binary')"
   ]
  },
  {
   "cell_type": "markdown",
   "metadata": {},
   "source": [
    "## Part 2 - Building our model classifier"
   ]
  },
  {
   "cell_type": "code",
   "execution_count": 3,
   "metadata": {},
   "outputs": [],
   "source": [
    "from keras.models import Sequential\n",
    "from keras.layers import Conv2D\n",
    "from keras.layers import MaxPooling2D\n",
    "from keras.layers import Flatten\n",
    "from keras.layers import Dense"
   ]
  },
  {
   "cell_type": "code",
   "execution_count": 4,
   "metadata": {},
   "outputs": [],
   "source": [
    "modelClassifier = Sequential()\n",
    "\n",
    "# Convolution Layer\n",
    "modelClassifier.add(Conv2D(32, (3, 3), input_shape = (64, 64, 3), activation = 'relu'))\n",
    "\n",
    "# MaxPooling Layer\n",
    "modelClassifier.add(MaxPooling2D(pool_size = (2, 2)))\n",
    "\n",
    "# Second Convolution layer\n",
    "modelClassifier.add(Conv2D(32, (3, 3), activation = 'relu'))\n",
    "modelClassifier.add(MaxPooling2D(pool_size = (2, 2)))\n",
    "\n",
    "# Flatten Layer\n",
    "modelClassifier.add(Flatten())\n",
    "\n",
    "# Fully Connected Layer\n",
    "modelClassifier.add(Dense(units = 128, activation = 'relu'))\n",
    "# Output Layer\n",
    "modelClassifier.add(Dense(units = 1, activation = 'sigmoid'))\n",
    "\n",
    "# Compiling Model\n",
    "modelClassifier.compile(optimizer = 'adam', loss = 'binary_crossentropy', metrics = ['accuracy'])\n"
   ]
  },
  {
   "cell_type": "markdown",
   "metadata": {},
   "source": [
    "**Fit data to our model**"
   ]
  },
  {
   "cell_type": "code",
   "execution_count": 5,
   "metadata": {},
   "outputs": [
    {
     "name": "stdout",
     "output_type": "stream",
     "text": [
      "Epoch 1/10\n",
      "8000/8000 [==============================] - 1758s 220ms/step - loss: 0.3361 - accuracy: 0.8440 - val_loss: 0.7728 - val_accuracy: 0.8166\n",
      "Epoch 2/10\n",
      "8000/8000 [==============================] - 1733s 217ms/step - loss: 0.0863 - accuracy: 0.9679 - val_loss: 1.0695 - val_accuracy: 0.7839\n",
      "Epoch 3/10\n",
      "8000/8000 [==============================] - 1652s 207ms/step - loss: 0.0460 - accuracy: 0.9839 - val_loss: 0.9316 - val_accuracy: 0.7861\n",
      "Epoch 4/10\n",
      "8000/8000 [==============================] - 1528s 191ms/step - loss: 0.0344 - accuracy: 0.9883 - val_loss: 3.1978 - val_accuracy: 0.8031\n",
      "Epoch 5/10\n",
      "8000/8000 [==============================] - 1529s 191ms/step - loss: 0.0280 - accuracy: 0.9906 - val_loss: 2.4800 - val_accuracy: 0.8131\n",
      "Epoch 6/10\n",
      "8000/8000 [==============================] - 1530s 191ms/step - loss: 0.0220 - accuracy: 0.9926 - val_loss: 1.6175 - val_accuracy: 0.8029\n",
      "Epoch 7/10\n",
      "8000/8000 [==============================] - 1527s 191ms/step - loss: 0.0200 - accuracy: 0.9937 - val_loss: 1.6657 - val_accuracy: 0.8010\n",
      "Epoch 8/10\n",
      "8000/8000 [==============================] - 1527s 191ms/step - loss: 0.0177 - accuracy: 0.9943 - val_loss: 1.3567 - val_accuracy: 0.8084\n",
      "Epoch 9/10\n",
      "8000/8000 [==============================] - 1527s 191ms/step - loss: 0.0158 - accuracy: 0.9949 - val_loss: 1.2370 - val_accuracy: 0.7958\n",
      "Epoch 10/10\n",
      "8000/8000 [==============================] - 1704s 213ms/step - loss: 0.0155 - accuracy: 0.9951 - val_loss: 0.9175 - val_accuracy: 0.8068\n"
     ]
    },
    {
     "data": {
      "text/plain": [
       "<keras.callbacks.callbacks.History at 0x7f30d94a32d0>"
      ]
     },
     "execution_count": 5,
     "metadata": {},
     "output_type": "execute_result"
    }
   ],
   "source": [
    "modelClassifier.fit_generator(training_set,\n",
    "                              steps_per_epoch = 8000,\n",
    "                              epochs = 10,\n",
    "                              validation_data = test_set,\n",
    "                              validation_steps = 2000)"
   ]
  },
  {
   "cell_type": "markdown",
   "metadata": {},
   "source": [
    "## Part 3 - Making new predictions"
   ]
  },
  {
   "cell_type": "code",
   "execution_count": 10,
   "metadata": {},
   "outputs": [],
   "source": [
    "import numpy as np\n",
    "from keras.preprocessing import image\n",
    "import cv2\n",
    "\n",
    "test_image = image.load_img('dataset/single_prediction/cat_or_dog_1.jpg', target_size = (64, 64))\n",
    "test_image = image.img_to_array(test_image)\n",
    "test_image = np.expand_dims(test_image, axis = 0)\n",
    "result = modelClassifier.predict(test_image)\n",
    "training_set.class_indices\n",
    "if result[0][0] == 1:\n",
    "    prediction = 'dog'\n",
    "else:\n",
    "    prediction = 'cat'"
   ]
  },
  {
   "cell_type": "code",
   "execution_count": 11,
   "metadata": {},
   "outputs": [
    {
     "name": "stdout",
     "output_type": "stream",
     "text": [
      "dog\n"
     ]
    }
   ],
   "source": [
    "print(prediction)"
   ]
  },
  {
   "cell_type": "code",
   "execution_count": null,
   "metadata": {},
   "outputs": [],
   "source": []
  }
 ],
 "metadata": {
  "kernelspec": {
   "display_name": "Python 3",
   "language": "python",
   "name": "python3"
  },
  "language_info": {
   "codemirror_mode": {
    "name": "ipython",
    "version": 2
   },
   "file_extension": ".py",
   "mimetype": "text/x-python",
   "name": "python",
   "nbconvert_exporter": "python",
   "pygments_lexer": "ipython2",
   "version": "2.7.17"
  }
 },
 "nbformat": 4,
 "nbformat_minor": 2
}
